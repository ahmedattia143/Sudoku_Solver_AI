{
 "cells": [
  {
   "cell_type": "code",
   "execution_count": 1,
   "metadata": {},
   "outputs": [],
   "source": [
    "import pandas as pd\n",
    "import numpy as np\n",
    "import os\n",
    "import matplotlib.pyplot as plt\n",
    "import tensorflow\n",
    "from tensorflow.keras.layers import *\n",
    "from tensorflow.keras.preprocessing import image\n",
    "from tensorflow.keras.preprocessing.image import ImageDataGenerator\n",
    "from tensorflow.keras.models import Sequential\n",
    "from tensorflow.keras.optimizers import *\n",
    "import cv2 as cv\n",
    "\n",
    "\n"
   ]
  },
  {
   "cell_type": "code",
   "execution_count": null,
   "metadata": {},
   "outputs": [],
   "source": [
    "#import split_folders\n",
    "#split_folders.ratio('train', output=\"dataset\", seed=1337, ratio=(.8, 0.2)) "
   ]
  },
  {
   "cell_type": "code",
   "execution_count": 62,
   "metadata": {},
   "outputs": [
    {
     "name": "stdout",
     "output_type": "stream",
     "text": [
      "Found 813 images belonging to 10 classes.\n",
      "Found 208 images belonging to 10 classes.\n"
     ]
    }
   ],
   "source": [
    "train_datagen = ImageDataGenerator(\n",
    "      rescale=1./255)\n",
    " \n",
    "validation_datagen = ImageDataGenerator(rescale=1./255)\n",
    "image_size = 100\n",
    "\n",
    "\n",
    "train_batchsize = 4\n",
    "val_batchsize = 4\n",
    " \n",
    "tg = train_datagen.flow_from_directory(\n",
    "        'dataset/train',\n",
    "        target_size=(image_size, image_size),\n",
    "        batch_size=train_batchsize,\n",
    "        color_mode = 'grayscale',\n",
    "        class_mode='categorical'\n",
    "                                        )\n",
    " \n",
    "vg = validation_datagen.flow_from_directory(\n",
    "        'dataset/val',\n",
    "        target_size=(image_size, image_size),\n",
    "        batch_size=val_batchsize,\n",
    "        class_mode='categorical',\n",
    "        color_mode = 'grayscale',\n",
    "        \n",
    "        shuffle=False)"
   ]
  },
  {
   "cell_type": "code",
   "execution_count": 67,
   "metadata": {},
   "outputs": [],
   "source": [
    "def conv():\n",
    "\n",
    "    model = Sequential([\n",
    "                BatchNormalization(axis=1, input_shape=(100,100,1)),\n",
    "                Convolution2D(32,(3,3),padding = 'valid',activation = 'relu'),\n",
    "                MaxPooling2D((3,3)),\n",
    "        \n",
    "                BatchNormalization(axis=1),\n",
    "                Convolution2D(64,(3,3),padding = 'valid',activation = 'relu'),\n",
    "                MaxPooling2D((3,3)),\n",
    "        \n",
    "                Flatten(),\n",
    "                Dense(100, activation='relu'),\n",
    "                Dropout(0.5),\n",
    "\n",
    "                Dense(10, activation='softmax')\n",
    "            ])\n",
    "    return model \n"
   ]
  },
  {
   "cell_type": "code",
   "execution_count": 68,
   "metadata": {},
   "outputs": [],
   "source": [
    "model = conv()"
   ]
  },
  {
   "cell_type": "code",
   "execution_count": 69,
   "metadata": {},
   "outputs": [
    {
     "name": "stdout",
     "output_type": "stream",
     "text": [
      "WARNING:tensorflow:sample_weight modes were coerced from\n",
      "  ...\n",
      "    to  \n",
      "  ['...']\n",
      "WARNING:tensorflow:sample_weight modes were coerced from\n",
      "  ...\n",
      "    to  \n",
      "  ['...']\n",
      "Train for 406.5 steps, validate for 104.0 steps\n",
      "Epoch 1/16\n",
      "407/406 [==============================] - 8s 21ms/step - loss: 1.9862 - accuracy: 0.4084 - val_loss: 0.8236 - val_accuracy: 0.7548\n",
      "Epoch 2/16\n",
      "407/406 [==============================] - 8s 20ms/step - loss: 0.8636 - accuracy: 0.7073 - val_loss: 0.4460 - val_accuracy: 0.8750\n",
      "Epoch 3/16\n",
      "407/406 [==============================] - 10s 26ms/step - loss: 0.5575 - accuracy: 0.8106 - val_loss: 0.3127 - val_accuracy: 0.8894\n",
      "Epoch 4/16\n",
      "407/406 [==============================] - 9s 22ms/step - loss: 0.3609 - accuracy: 0.8635 - val_loss: 0.2047 - val_accuracy: 0.9279\n",
      "Epoch 5/16\n",
      "407/406 [==============================] - 8s 20ms/step - loss: 0.2947 - accuracy: 0.8795 - val_loss: 0.2350 - val_accuracy: 0.9231\n",
      "Epoch 6/16\n",
      "407/406 [==============================] - 8s 20ms/step - loss: 0.2484 - accuracy: 0.9065 - val_loss: 0.2560 - val_accuracy: 0.9471\n",
      "Epoch 7/16\n",
      "407/406 [==============================] - 9s 21ms/step - loss: 0.1796 - accuracy: 0.9336 - val_loss: 0.1734 - val_accuracy: 0.9567\n",
      "Epoch 8/16\n",
      "407/406 [==============================] - 9s 21ms/step - loss: 0.1578 - accuracy: 0.9434 - val_loss: 0.2765 - val_accuracy: 0.9375\n",
      "Epoch 9/16\n",
      "407/406 [==============================] - 8s 20ms/step - loss: 0.1680 - accuracy: 0.9397 - val_loss: 0.2753 - val_accuracy: 0.9567\n",
      "Epoch 10/16\n",
      "407/406 [==============================] - 8s 20ms/step - loss: 0.1551 - accuracy: 0.9594 - val_loss: 0.1582 - val_accuracy: 0.9567\n",
      "Epoch 11/16\n",
      "407/406 [==============================] - 8s 20ms/step - loss: 0.1534 - accuracy: 0.9446 - val_loss: 0.1922 - val_accuracy: 0.9663\n",
      "Epoch 12/16\n",
      "407/406 [==============================] - 8s 21ms/step - loss: 0.1165 - accuracy: 0.9643 - val_loss: 0.1969 - val_accuracy: 0.9519\n",
      "Epoch 13/16\n",
      "407/406 [==============================] - 8s 21ms/step - loss: 0.1049 - accuracy: 0.9631 - val_loss: 0.2234 - val_accuracy: 0.9712\n",
      "Epoch 14/16\n",
      "407/406 [==============================] - 8s 21ms/step - loss: 0.1562 - accuracy: 0.9533 - val_loss: 0.1660 - val_accuracy: 0.9712\n",
      "Epoch 15/16\n",
      "407/406 [==============================] - 8s 20ms/step - loss: 0.1186 - accuracy: 0.9643 - val_loss: 0.1943 - val_accuracy: 0.9519\n",
      "Epoch 16/16\n",
      "407/406 [==============================] - 8s 21ms/step - loss: 0.1036 - accuracy: 0.9631 - val_loss: 0.3124 - val_accuracy: 0.9423\n"
     ]
    },
    {
     "data": {
      "text/plain": [
       "<tensorflow.python.keras.callbacks.History at 0x7f54e8b34850>"
      ]
     },
     "execution_count": 69,
     "metadata": {},
     "output_type": "execute_result"
    }
   ],
   "source": [
    "model.compile(Adam(lr=1e-3), loss='categorical_crossentropy', metrics=['accuracy'])\n",
    "model.fit(  tg,\n",
    "            steps_per_epoch=tg.samples/tg.batch_size ,\n",
    "            epochs=16,\n",
    "            validation_data=vg,\n",
    "            validation_steps=vg.samples/vg.batch_size)\n",
    "                    \n"
   ]
  },
  {
   "cell_type": "code",
   "execution_count": 70,
   "metadata": {},
   "outputs": [
    {
     "name": "stdout",
     "output_type": "stream",
     "text": [
      "WARNING:tensorflow:sample_weight modes were coerced from\n",
      "  ...\n",
      "    to  \n",
      "  ['...']\n",
      "WARNING:tensorflow:sample_weight modes were coerced from\n",
      "  ...\n",
      "    to  \n",
      "  ['...']\n",
      "Train for 406.5 steps, validate for 104.0 steps\n",
      "Epoch 1/5\n",
      "407/406 [==============================] - 8s 21ms/step - loss: 0.0954 - accuracy: 0.9606 - val_loss: 0.2281 - val_accuracy: 0.9615\n",
      "Epoch 2/5\n",
      "407/406 [==============================] - 8s 19ms/step - loss: 0.0468 - accuracy: 0.9828 - val_loss: 0.2134 - val_accuracy: 0.9712\n",
      "Epoch 3/5\n",
      "407/406 [==============================] - 8s 19ms/step - loss: 0.0474 - accuracy: 0.9815 - val_loss: 0.2069 - val_accuracy: 0.9663\n",
      "Epoch 4/5\n",
      "407/406 [==============================] - 8s 20ms/step - loss: 0.0418 - accuracy: 0.9852 - val_loss: 0.2235 - val_accuracy: 0.9663\n",
      "Epoch 5/5\n",
      "407/406 [==============================] - 8s 20ms/step - loss: 0.0292 - accuracy: 0.9926 - val_loss: 0.2428 - val_accuracy: 0.9712\n"
     ]
    },
    {
     "data": {
      "text/plain": [
       "<tensorflow.python.keras.callbacks.History at 0x7f54e8b57990>"
      ]
     },
     "execution_count": 70,
     "metadata": {},
     "output_type": "execute_result"
    }
   ],
   "source": [
    "model.compile(Adam(lr=1e-4), loss='categorical_crossentropy', metrics=['accuracy'])\n",
    "model.fit_generator(tg,\n",
    "                    steps_per_epoch=tg.samples/tg.batch_size ,\n",
    "                    epochs=5,\n",
    "                    validation_data=vg,\n",
    "                    validation_steps=vg.samples/vg.batch_size)"
   ]
  },
  {
   "cell_type": "code",
   "execution_count": 71,
   "metadata": {},
   "outputs": [
    {
     "name": "stdout",
     "output_type": "stream",
     "text": [
      "Found 1021 images belonging to 10 classes.\n"
     ]
    }
   ],
   "source": [
    "tg = train_datagen.flow_from_directory(\n",
    "        'train',\n",
    "        target_size=(image_size, image_size),\n",
    "        batch_size=train_batchsize,\n",
    "        color_mode = 'grayscale',\n",
    "        class_mode='categorical')"
   ]
  },
  {
   "cell_type": "code",
   "execution_count": 73,
   "metadata": {},
   "outputs": [],
   "source": [
    "model = conv()"
   ]
  },
  {
   "cell_type": "code",
   "execution_count": 74,
   "metadata": {},
   "outputs": [
    {
     "name": "stdout",
     "output_type": "stream",
     "text": [
      "WARNING:tensorflow:sample_weight modes were coerced from\n",
      "  ...\n",
      "    to  \n",
      "  ['...']\n",
      "Train for 510.5 steps\n",
      "Epoch 1/15\n",
      "511/510 [==============================] - 10s 19ms/step - loss: 1.9568 - accuracy: 0.4192\n",
      "Epoch 2/15\n",
      "511/510 [==============================] - 9s 17ms/step - loss: 0.8239 - accuracy: 0.7032\n",
      "Epoch 3/15\n",
      "511/510 [==============================] - 43s 83ms/step - loss: 0.5069 - accuracy: 0.8345\n",
      "Epoch 4/15\n",
      "511/510 [==============================] - 46s 91ms/step - loss: 0.3681 - accuracy: 0.8746\n",
      "Epoch 5/15\n",
      "511/510 [==============================] - 9s 17ms/step - loss: 0.2755 - accuracy: 0.8883\n",
      "Epoch 6/15\n",
      "511/510 [==============================] - 9s 17ms/step - loss: 0.2166 - accuracy: 0.9197\n",
      "Epoch 7/15\n",
      "511/510 [==============================] - 9s 17ms/step - loss: 0.1710 - accuracy: 0.9393\n",
      "Epoch 8/15\n",
      "511/510 [==============================] - 9s 17ms/step - loss: 0.2238 - accuracy: 0.9236\n",
      "Epoch 9/15\n",
      "511/510 [==============================] - 9s 18ms/step - loss: 0.1864 - accuracy: 0.9305\n",
      "Epoch 10/15\n",
      "511/510 [==============================] - 9s 17ms/step - loss: 0.1264 - accuracy: 0.9520\n",
      "Epoch 11/15\n",
      "511/510 [==============================] - 9s 18ms/step - loss: 0.1335 - accuracy: 0.9510\n",
      "Epoch 12/15\n",
      "511/510 [==============================] - 9s 18ms/step - loss: 0.1600 - accuracy: 0.9422\n",
      "Epoch 13/15\n",
      "511/510 [==============================] - 9s 18ms/step - loss: 0.1296 - accuracy: 0.9559\n",
      "Epoch 14/15\n",
      "511/510 [==============================] - 9s 18ms/step - loss: 0.0993 - accuracy: 0.9589\n",
      "Epoch 15/15\n",
      "511/510 [==============================] - 9s 18ms/step - loss: 0.1324 - accuracy: 0.9638\n"
     ]
    },
    {
     "data": {
      "text/plain": [
       "<tensorflow.python.keras.callbacks.History at 0x7f54e8841850>"
      ]
     },
     "execution_count": 74,
     "metadata": {},
     "output_type": "execute_result"
    }
   ],
   "source": [
    "model.compile(Adam(lr=1e-3), loss='categorical_crossentropy', metrics=['accuracy'])\n",
    "model.fit_generator(tg,\n",
    "                    steps_per_epoch=tg.samples/tg.batch_size ,\n",
    "                    epochs=15)"
   ]
  },
  {
   "cell_type": "code",
   "execution_count": 76,
   "metadata": {},
   "outputs": [
    {
     "name": "stdout",
     "output_type": "stream",
     "text": [
      "WARNING:tensorflow:sample_weight modes were coerced from\n",
      "  ...\n",
      "    to  \n",
      "  ['...']\n",
      "Train for 510.5 steps\n",
      "Epoch 1/3\n",
      "511/510 [==============================] - 9s 18ms/step - loss: 0.0351 - accuracy: 0.9873\n",
      "Epoch 2/3\n",
      "511/510 [==============================] - 9s 17ms/step - loss: 0.0387 - accuracy: 0.9892\n",
      "Epoch 3/3\n",
      "511/510 [==============================] - 8s 17ms/step - loss: 0.0334 - accuracy: 0.9892\n"
     ]
    },
    {
     "data": {
      "text/plain": [
       "<tensorflow.python.keras.callbacks.History at 0x7f54e562e0d0>"
      ]
     },
     "execution_count": 76,
     "metadata": {},
     "output_type": "execute_result"
    }
   ],
   "source": [
    "model.compile(Adam(lr=1e-4), loss='categorical_crossentropy', metrics=['accuracy'])\n",
    "model.fit_generator(tg,\n",
    "                    steps_per_epoch=tg.samples/tg.batch_size ,\n",
    "                    epochs=3)"
   ]
  },
  {
   "cell_type": "code",
   "execution_count": 80,
   "metadata": {},
   "outputs": [
    {
     "name": "stdout",
     "output_type": "stream",
     "text": [
      "['0', '1', '2', '3', '4', '5', '6', '7', '8', '9']\n"
     ]
    }
   ],
   "source": [
    "class_dict = tg.class_indices\n",
    "li = list(class_dict.keys())\n",
    "print(li)"
   ]
  },
  {
   "cell_type": "code",
   "execution_count": 84,
   "metadata": {},
   "outputs": [],
   "source": [
    "model.save('model/model.h5')"
   ]
  },
  {
   "cell_type": "code",
   "execution_count": null,
   "metadata": {},
   "outputs": [],
   "source": []
  }
 ],
 "metadata": {
  "kernelspec": {
   "display_name": "Python 3",
   "language": "python",
   "name": "python3"
  },
  "language_info": {
   "codemirror_mode": {
    "name": "ipython",
    "version": 3
   },
   "file_extension": ".py",
   "mimetype": "text/x-python",
   "name": "python",
   "nbconvert_exporter": "python",
   "pygments_lexer": "ipython3",
   "version": "3.7.6"
  }
 },
 "nbformat": 4,
 "nbformat_minor": 4
}
